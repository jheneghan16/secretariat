{
 "cells": [
  {
   "cell_type": "markdown",
   "metadata": {},
   "source": [
    "# Horse Racing Classification\n",
    "### Jamie Heneghan, Melka Konshie, Kyle Duffy, Walter Robson, Sam Allison\n",
    "### CSE 40647"
   ]
  },
  {
   "cell_type": "markdown",
   "metadata": {},
   "source": [
    "**Getting the Data**"
   ]
  },
  {
   "cell_type": "code",
   "execution_count": null,
   "metadata": {},
   "outputs": [],
   "source": [
    "import pandas as pd\n",
    "import numpy as np\n",
    "runs = pd.read_csv(\"./runs.csv\")\n",
    "races = pd.read_csv(\"./races.csv\")\n",
    "\n",
    "print(runs.shape)\n",
    "print(races.shape)"
   ]
  },
  {
   "cell_type": "code",
   "execution_count": null,
   "metadata": {},
   "outputs": [],
   "source": [
    "runs"
   ]
  },
  {
   "cell_type": "code",
   "execution_count": null,
   "metadata": {},
   "outputs": [],
   "source": [
    "races.head()"
   ]
  },
  {
   "cell_type": "code",
   "execution_count": null,
   "metadata": {},
   "outputs": [],
   "source": [
    "## Merge based on horse id, historical"
   ]
  },
  {
   "cell_type": "code",
   "execution_count": null,
   "metadata": {},
   "outputs": [],
   "source": [
    "historical_df_runs = runs[['won', 'horse_type','finish_time','horse_id','race_id']]\n",
    "\n",
    "historical_df_races = races[['race_id', 'venue', 'config', 'distance', 'going', 'race_class']]"
   ]
  },
  {
   "cell_type": "code",
   "execution_count": null,
   "metadata": {},
   "outputs": [],
   "source": [
    "historical_df_runs.join(historical_df_runs.groupby('horse_id')['finish_time'].agg(['mean']), on='horse_id')"
   ]
  },
  {
   "cell_type": "code",
   "execution_count": null,
   "metadata": {},
   "outputs": [],
   "source": [
    "historical_df = pd.merge(historical_df_runs, historical_df_races, on='race_id')"
   ]
  },
  {
   "cell_type": "code",
   "execution_count": null,
   "metadata": {},
   "outputs": [],
   "source": [
    "#historical_df.head()\n",
    "\n",
    "#historical_df = historical_df.groupby('horse_id')\n",
    "## For to use this, you can do something like this:\n",
    "#avg_times = historical_df.groupby('horse_id')['finish_time'].mean() -> gets the average of finish time for horses with \n",
    "avg_times = historical_df.groupby('horse_id')['finish_time'].mean()\n",
    "avg_times.head()"
   ]
  },
  {
   "cell_type": "code",
   "execution_count": null,
   "metadata": {},
   "outputs": [],
   "source": [
    "## this kinda returns a df of dfs if that makes sense. Still gotta make it last 3, not all\n",
    "historical_df = historical_df.groupby('horse_id').agg(lambda x: x.tolist())"
   ]
  },
  {
   "cell_type": "code",
   "execution_count": null,
   "metadata": {},
   "outputs": [],
   "source": [
    "historical_df.head()"
   ]
  },
  {
   "cell_type": "code",
   "execution_count": null,
   "metadata": {},
   "outputs": [],
   "source": [
    "## Take the features we want (This can be changed)"
   ]
  },
  {
   "cell_type": "code",
   "execution_count": null,
   "metadata": {},
   "outputs": [],
   "source": [
    "runs_features = runs[['race_id', 'won', 'horse_age', 'horse_country', 'horse_type',\n",
    "                      'horse_rating', 'horse_gear', 'declared_weight', 'actual_weight',\n",
    "                      'draw', 'win_odds', 'horse_id', 'finish_time']]\n",
    "\n",
    "races_features = races[['race_id', 'venue','date', 'config', 'distance', 'going', 'race_class']]\n"
   ]
  },
  {
   "cell_type": "code",
   "execution_count": null,
   "metadata": {},
   "outputs": [],
   "source": [
    "## Merge the races and runs by race ID"
   ]
  },
  {
   "cell_type": "code",
   "execution_count": null,
   "metadata": {},
   "outputs": [],
   "source": [
    "df = pd.merge(runs_features, races_features, on='race_id')"
   ]
  },
  {
   "cell_type": "code",
   "execution_count": null,
   "metadata": {},
   "outputs": [],
   "source": [
    "## Add melkas stuff here"
   ]
  },
  {
   "cell_type": "code",
   "execution_count": null,
   "metadata": {},
   "outputs": [],
   "source": [
    "from pandasql import sqldf\n",
    "pysqldf = lambda q: sqldf(q, globals())"
   ]
  },
  {
   "cell_type": "code",
   "execution_count": null,
   "metadata": {},
   "outputs": [],
   "source": [
    "df['speed'] = df['distance'] / df['finish_time']"
   ]
  },
  {
   "cell_type": "code",
   "execution_count": null,
   "metadata": {},
   "outputs": [],
   "source": [
    "historical_averages = pysqldf('''\n",
    "        SELECT a.horse_id, a.race_id, avg(b.finish_time) as average_past_finish_time, avg(b.speed) as average_past_speed, count(*)+1 as race_count, sum(b.won) as past_wins\n",
    "        FROM df a, df b \n",
    "        where a.horse_id = b.horse_id\n",
    "        and a.race_id != b.race_id\n",
    "        and a.date > b.date\n",
    "        group by a.horse_id, a.race_id\n",
    "        '''\n",
    "        )"
   ]
  },
  {
   "cell_type": "code",
   "execution_count": null,
   "metadata": {},
   "outputs": [],
   "source": [
    "historical_averages.shape\n",
    "df = df.merge(historical_averages, on=['horse_id', 'race_id'], how='left')"
   ]
  },
  {
   "cell_type": "raw",
   "metadata": {},
   "source": []
  },
  {
   "cell_type": "code",
   "execution_count": null,
   "metadata": {},
   "outputs": [],
   "source": [
    "df[\"average_past_finish_time\"] = df.groupby(\"horse_id\")[\"average_past_finish_time\"].transform(lambda x: x.fillna(x.mean()))\n",
    "df[\"average_past_speed\"]    = df.groupby(\"horse_id\")[\"average_past_speed\"].transform(lambda x: x.fillna(x.mean()))\n",
    "df[\"race_count\"]            = df.groupby(\"horse_id\")[\"race_count\"].transform(lambda x: x.fillna(1))\n",
    "df[\"past_wins\"]             = df.groupby(\"horse_id\")[\"past_wins\"].transform(lambda x: x.fillna(0))\n",
    "df[\"past_win_percentege\"]   = df[\"past_wins\"] / df[\"race_count\"]"
   ]
  },
  {
   "cell_type": "code",
   "execution_count": null,
   "metadata": {},
   "outputs": [],
   "source": [
    "df = df.drop('date', axis=1)\n",
    "df = df.dropna()"
   ]
  },
  {
   "cell_type": "code",
   "execution_count": null,
   "metadata": {},
   "outputs": [],
   "source": [
    "df = df.join(df.groupby('horse_id')['finish_time'].agg(['mean']), on='horse_id')"
   ]
  },
  {
   "cell_type": "code",
   "execution_count": null,
   "metadata": {},
   "outputs": [],
   "source": []
  },
  {
   "cell_type": "code",
   "execution_count": null,
   "metadata": {},
   "outputs": [],
   "source": []
  },
  {
   "cell_type": "code",
   "execution_count": null,
   "metadata": {},
   "outputs": [],
   "source": []
  },
  {
   "cell_type": "code",
   "execution_count": null,
   "metadata": {},
   "outputs": [],
   "source": [
    "## Drop Missing Values (this can be changed too, just easier this way)"
   ]
  },
  {
   "cell_type": "code",
   "execution_count": null,
   "metadata": {},
   "outputs": [],
   "source": [
    "df = df.dropna()"
   ]
  },
  {
   "cell_type": "code",
   "execution_count": null,
   "metadata": {},
   "outputs": [],
   "source": [
    "#df = df.join(df.groupby('horse_id')['finish_time'].agg(['mean']), on='horse_id')\n",
    "## i deleted this above line idk why\n",
    "#df = df.drop(columns=['finish_time'])\n",
    "#df.columns"
   ]
  },
  {
   "cell_type": "code",
   "execution_count": null,
   "metadata": {},
   "outputs": [],
   "source": [
    "df = df.drop(columns=['finish_time'])\n"
   ]
  },
  {
   "cell_type": "code",
   "execution_count": null,
   "metadata": {},
   "outputs": [],
   "source": [
    "df.shape\n",
    "df.head()"
   ]
  },
  {
   "cell_type": "markdown",
   "metadata": {},
   "source": [
    "**Clean & Process the Data**"
   ]
  },
  {
   "cell_type": "code",
   "execution_count": null,
   "metadata": {},
   "outputs": [],
   "source": [
    "## Convert gear -> binary\n",
    "df['horse_gear'] = np.where(df['horse_gear'] == '--', 0, 1)\n",
    "\n",
    "df.columns"
   ]
  },
  {
   "cell_type": "code",
   "execution_count": null,
   "metadata": {},
   "outputs": [],
   "source": [
    "## Categorical -> Numerical (one hot encoding)\n",
    "df = pd.get_dummies(df)"
   ]
  },
  {
   "cell_type": "code",
   "execution_count": null,
   "metadata": {},
   "outputs": [],
   "source": [
    "df.head()"
   ]
  },
  {
   "cell_type": "code",
   "execution_count": null,
   "metadata": {},
   "outputs": [],
   "source": [
    "df.shape\n",
    "df.columns"
   ]
  },
  {
   "cell_type": "markdown",
   "metadata": {},
   "source": [
    "## Try and Group by Race, and then predict each race not individual horses"
   ]
  },
  {
   "cell_type": "code",
   "execution_count": null,
   "metadata": {},
   "outputs": [],
   "source": [
    "df_byRace = df.groupby('race_id').agg(lambda x: x.tolist())\n",
    "df_byRace.head()\n",
    "##this is good (i think)\n"
   ]
  },
  {
   "cell_type": "code",
   "execution_count": null,
   "metadata": {},
   "outputs": [],
   "source": [
    "df_byRace.shape"
   ]
  },
  {
   "cell_type": "code",
   "execution_count": null,
   "metadata": {},
   "outputs": [],
   "source": [
    "## gonna use first 5000 as train, last 1348 as test (races)"
   ]
  },
  {
   "cell_type": "markdown",
   "metadata": {},
   "source": [
    "### Models"
   ]
  },
  {
   "cell_type": "code",
   "execution_count": null,
   "metadata": {},
   "outputs": [],
   "source": [
    "import matplotlib.pyplot as plt\n",
    "from sklearn import metrics\n",
    "from sklearn.neighbors import KNeighborsClassifier\n",
    "from sklearn import tree\n",
    "from sklearn import linear_model\n",
    "from sklearn.naive_bayes import GaussianNB\n",
    "from sklearn.svm import SVC\n",
    "from sklearn.ensemble import RandomForestClassifier\n",
    "from sklearn.ensemble import AdaBoostClassifier\n",
    "from sklearn.neural_network import MLPClassifier\n",
    "from sklearn.model_selection import train_test_split\n",
    "\n",
    "## This is predicting whether a horse wins the race or not.\n",
    "X_data = df.drop(columns=['won','win_odds'])\n",
    "#drop 'won' cause that's the Y, drop race_id cause its noise?\n",
    "## Theres definitely a better way to do this. We should be predicting which horse out of n horses in race x wins, not if horse is a winner in general\n",
    "## Maybe we can compare the \"likelihood of winning\" for all n horses in race X, choose winner based on that, but then we need a model which gives us likelihood\n",
    "\n",
    "## I hope this works, im trying to get a df of only the win_odds for testing purposes later\n",
    "Y_data = df[['won', 'win_odds', 'race_id', 'horse_id']]\n",
    "\n",
    "#df1 = df[df['Sales'] >= s]\n",
    "X_train = X_data[X_data['race_id'] < 5000]\n",
    "X_test = X_data[X_data['race_id'] >= 5000]\n",
    "\n",
    "y_train = Y_data[Y_data['race_id'] < 5000]\n",
    "y_test = Y_data[Y_data['race_id'] >= 5000]\n",
    "\n",
    "#Y_data.head\n",
    "#Y_train.head\n",
    "## Probably a better sampling method, but idk this is easiest\n",
    "#X_train, X_test, y_train, y_test = train_test_split(X_data, Y_data, test_size=.2, random_state=69)\n",
    "\n",
    "#print(y_test)\n",
    "only_odds = y_test#.drop(columns=['won'])\n",
    "y_train = y_train.drop(columns=['win_odds', 'race_id'])\n",
    "#y_train = y_train.values.ravel()\n",
    "#print(y_train)\n",
    "y_test = y_test.drop(columns=['win_odds', 'race_id', 'horse_id'])\n",
    "y_test = y_test.values.ravel()\n",
    "#only_odds = only_odds.values.ravel()\n",
    "\n",
    "\n",
    "#print(only_odds)\n",
    "\n",
    "\n"
   ]
  },
  {
   "cell_type": "code",
   "execution_count": null,
   "metadata": {},
   "outputs": [],
   "source": [
    "X_test_byr = X_test.groupby('race_id').agg(lambda x: x.tolist())\n",
    "only_odds_byr = only_odds.groupby('race_id').agg(lambda x: x.tolist())\n",
    "X_test_byr.head()\n",
    "only_odds_byr.head()"
   ]
  },
  {
   "cell_type": "code",
   "execution_count": null,
   "metadata": {},
   "outputs": [],
   "source": [
    "#y_test = y_test.values.ravel()\n",
    "print(y_train)\n"
   ]
  },
  {
   "cell_type": "code",
   "execution_count": null,
   "metadata": {},
   "outputs": [],
   "source": [
    "print(\"X_train.shape\", X_train.shape)\n",
    "print(\"y_train.shape\", len(y_train['won']), \"#Winners:\", sum(y_train['won']))\n",
    "print(\"X_test.shape\", X_test.shape)\n",
    "print(\"y_test.shape\", len(y_test), \"#Winners:\", sum(y_test))\n"
   ]
  },
  {
   "cell_type": "code",
   "execution_count": null,
   "metadata": {},
   "outputs": [],
   "source": [
    "X_train = X_train.drop(columns=['race_id'])\n",
    "X_test = X_test.drop(columns=['race_id'])\n",
    "y_train = y_train.drop(columns=['horse_id'])\n",
    "#y_test = y_test.drop(columns=['horse_id'])\n",
    "y_train = y_train.values.ravel()"
   ]
  },
  {
   "cell_type": "code",
   "execution_count": null,
   "metadata": {},
   "outputs": [],
   "source": [
    "print(\"X_train.shape\", X_train.shape)\n",
    "print(\"y_train.shape\", y_train.shape, \"#Winners:\", sum(y_train))\n",
    "print(\"X_test.shape\", X_test.shape)\n",
    "print(\"y_test.shape\", len(y_test), \"#Winners:\", sum(y_test))\n",
    "#y_train.head()\n"
   ]
  },
  {
   "cell_type": "code",
   "execution_count": null,
   "metadata": {},
   "outputs": [],
   "source": [
    "clf_knn = KNeighborsClassifier(n_neighbors=8)\n",
    "clf_id3 = tree.DecisionTreeClassifier(criterion=\"entropy\", max_depth=10)\n",
    "clf_id3_overfit = tree.DecisionTreeClassifier(criterion=\"entropy\")\n",
    "clf_cart = tree.DecisionTreeClassifier(max_depth=10)\n",
    "clf_bayes = GaussianNB()\n",
    "clf_rbf = SVC(probability=True)\n",
    "clf_forest = RandomForestClassifier()\n",
    "clf_boost = AdaBoostClassifier(base_estimator=tree.DecisionTreeClassifier(max_depth=2), random_state=69)\n",
    "clf_mlp = MLPClassifier(hidden_layer_sizes=(50,50,), max_iter=1000, tol=0.001, random_state=420)\n",
    "\n",
    "clf_knn.fit(X_train, y_train)\n",
    "clf_id3.fit(X_train, y_train)\n",
    "clf_id3_overfit.fit(X_train, y_train)\n",
    "clf_cart.fit(X_train, y_train)\n",
    "clf_bayes.fit(X_train, y_train)\n",
    "clf_rbf.fit(X_train, y_train)\n",
    "clf_forest.fit(X_train, y_train)\n",
    "clf_boost.fit(X_train, y_train)\n",
    "clf_mlp.fit(X_train, y_train)\n",
    "\n",
    "y_pred_knn = clf_knn.predict(X_test)\n",
    "y_pred_id3 = clf_id3.predict(X_test)\n",
    "y_pred_id3_of = clf_id3_overfit.predict(X_test)\n",
    "y_pred_cart = clf_cart.predict(X_test)\n",
    "y_pred_bayes = clf_bayes.predict(X_test)\n",
    "y_pred_rbf = clf_rbf.predict(X_test)\n",
    "y_pred_forest = clf_forest.predict(X_test)\n",
    "y_pred_boost = clf_boost.predict(X_test)\n",
    "y_pred_mlp = clf_mlp.predict(X_test)\n"
   ]
  },
  {
   "cell_type": "code",
   "execution_count": null,
   "metadata": {},
   "outputs": [],
   "source": [
    "weights = {1:.1, 0:.9}\n",
    "\n",
    "clf_ridge = linear_model.RidgeClassifier(alpha=1, class_weight='balanced')\n",
    "clf_ridge.fit(X_train, y_train)\n",
    "y_pred_ridge = clf_ridge.predict(X_test)\n",
    "print(X_train.columns)"
   ]
  },
  {
   "cell_type": "code",
   "execution_count": null,
   "metadata": {},
   "outputs": [],
   "source": [
    "print(\"- Ridge:\\n\", metrics.classification_report(y_test, y_pred_ridge))"
   ]
  },
  {
   "cell_type": "code",
   "execution_count": null,
   "metadata": {},
   "outputs": [],
   "source": [
    "only_odds = only_odds.values.ravel()"
   ]
  },
  {
   "cell_type": "code",
   "execution_count": null,
   "metadata": {},
   "outputs": [],
   "source": [
    "bankroll_ridge = 0\n",
    "### idk what this does tbh\n",
    "#print(y_test.shape)\n",
    "#print(only_odds.shape)\n",
    "#print(y_test[61253])\n",
    "i = 0\n",
    "#only_odds = only_odds.values.ravel()\n",
    "predicted_yes = 0\n",
    "predicted_no = 0\n",
    "correct_winners = 0\n",
    "for index, run in X_test.iterrows():\n",
    "    #print(index, run)\n",
    "    #print(index)\n",
    "    #bet a dollar to place (need to change this to win...)\n",
    "    prediction_knn = clf_ridge.predict([run])\n",
    "    #print(\"prediction\", prediction_knn,\"result\", y_test[i], \"odds\", only_odds[i], \"bankroll\", bankroll_ridge)\n",
    "    # Todo: We can graph the bankroll overtime for visuals\n",
    "    \n",
    "    #print(prediction)\n",
    "    #print(only_odds[i])\n",
    "    odds = only_odds[1 + i*4] #this is messy but works\n",
    "    #print(prediction_knn, y_test[i], odds, ba)\n",
    "    if prediction_knn:\n",
    "        predicted_yes += 1\n",
    "        if (y_test[i] == 1):\n",
    "            correct_winners += 1\n",
    "            bankroll_ridge += odds\n",
    "        else:\n",
    "            bankroll_ridge -= 1\n",
    "    else:\n",
    "        predicted_no += 1\n",
    "            \n",
    "    i += 1\n",
    "    \n",
    "print(\"Predicted Winners\", predicted_yes, \"Predicted Losers\", predicted_no, \"Correct Winners\", correct_winners)"
   ]
  },
  {
   "cell_type": "code",
   "execution_count": null,
   "metadata": {},
   "outputs": [],
   "source": [
    "print(bankroll_ridge)\n",
    "print(len(y_test))"
   ]
  },
  {
   "cell_type": "markdown",
   "metadata": {},
   "source": [
    "# Try to test on Races here, hopefully"
   ]
  },
  {
   "cell_type": "code",
   "execution_count": null,
   "metadata": {},
   "outputs": [],
   "source": [
    "test = 1\n",
    "#print(X_test_byr.columns)\n",
    "#print(only_odds_byr.index.name)\n",
    "\n",
    "predicted_loss = 0\n",
    "predicted_win = 0\n",
    "correct_p_win = 0\n",
    "incorrect_p_win = 0\n",
    "\n",
    "bankroll_ridge_byr = 0\n",
    "\n",
    "max_winnings = 0\n",
    "\n",
    "for feature, run in X_test_byr.iterrows():\n",
    "    df = pd.DataFrame(run.values.tolist(), index=run.index)\n",
    "    df = df.transpose()\n",
    "    #print(feature)\n",
    "    ##good \n",
    "    predictions = []\n",
    "    odds_arr = []\n",
    "    winners = []\n",
    "    for index, run in df.iterrows():\n",
    "        #print(run)\n",
    "        d = clf_ridge.decision_function([run])\n",
    "        prediction = np.interp(d[0],[-1,1],[0,1])\n",
    "        predictions.append(prediction)\n",
    "        ## this is working, now we just have to implement the odds\n",
    "        odds = only_odds_byr.loc[feature]\n",
    "        odds_arr.append(odds['win_odds'][index])\n",
    "        winners.append(odds['won'][index])\n",
    "        \n",
    "        d = clf_ridge.decision_function([run])\n",
    "        prediction_ridge = np.interp(d[0],[-1,1],[0,1])\n",
    "    \n",
    "    \n",
    "    ##above gets probs of each horse in the race, below attempts to bet based on that\n",
    "    total_odds = sum(predictions)\n",
    "    for i in range(len(predictions)):\n",
    "        predictions[i] = predictions[i]/total_odds\n",
    "        implied_odds = 1/odds_arr[i]\n",
    "        if predictions[i] > implied_odds * 1.1: # need 10% adv to bet?\n",
    "            predicted_win += 1\n",
    "            if winners[i] == 1:\n",
    "                bankroll_ridge_byr += odds_arr[i]\n",
    "                if odds_arr[i] > max_winnings:\n",
    "                    max_winnings = odds_arr[i]\n",
    "                    print(feature,\"\\n\",run,\"\\nODDS---------\",odds_arr[i], \"\\nprediction------\",predictions[i])\n",
    "                correct_p_win += 1\n",
    "            else:\n",
    "                bankroll_ridge_byr -= 1\n",
    "                incorrect_p_win += 1\n",
    "        else:\n",
    "            predicted_loss += 1\n",
    "        #print(\"Implied Odds\", round(implied_odds, 3), \"\\tpredicted proba\", round(predictions[i], 3), \"\\tBankroll $\", bankroll_ridge_byr)\n",
    "        \n",
    "        \n",
    "##its working\n",
    "#print(run['horse_age'])\n",
    "#df.columns\n",
    "#only_odds_byr.head()"
   ]
  },
  {
   "cell_type": "code",
   "execution_count": null,
   "metadata": {},
   "outputs": [],
   "source": [
    "print(\"$\",bankroll_ridge_byr)\n",
    "print(\"Correct Wins\", correct_p_win, \"Incorrect Wins\", incorrect_p_win)"
   ]
  },
  {
   "cell_type": "code",
   "execution_count": null,
   "metadata": {},
   "outputs": [],
   "source": [
    "## try with another classifier maybe, this is just copy pasted from above\n",
    "test = 1\n",
    "#print(X_test_byr.columns)\n",
    "#print(only_odds_byr.index.name)\n",
    "\n",
    "predicted_loss = 0\n",
    "predicted_win = 0\n",
    "correct_p_win = 0\n",
    "incorrect_p_win = 0\n",
    "\n",
    "bankroll_ridge_byr = 0\n",
    "\n",
    "for feature, run in X_test_byr.iterrows():\n",
    "    df = pd.DataFrame(run.values.tolist(), index=run.index)\n",
    "    df = df.transpose()\n",
    "    #print(feature)\n",
    "    ##good \n",
    "    predictions = []\n",
    "    odds_arr = []\n",
    "    winners = []\n",
    "    for index, run in df.iterrows():\n",
    "        #print(run)\n",
    "        ####\n",
    "        #### Replace clf_{forest}.predict_proba... with any of our other models to test them.\n",
    "        ####\n",
    "        d = clf_mlp.predict_proba([run])[0][1]\n",
    "        #prediction = np.interp(d[0],[-1,1],[0,1])\n",
    "        #print(d[0][1])\n",
    "        predictions.append(d)\n",
    "        ##sick this is working, now we just have to implement the odds\n",
    "        odds = only_odds_byr.loc[feature]\n",
    "        odds_arr.append(odds['win_odds'][index])\n",
    "        winners.append(odds['won'][index])\n",
    "        \n",
    "        #d = clf_ridge.decision_function([run])\n",
    "        #prediction_ridge = np.interp(d[0],[-1,1],[0,1])\n",
    "    \n",
    "    \n",
    "    ##above gets probs of each horse in the race, below attempts to bet based on that\n",
    "    total_odds = sum(predictions)\n",
    "    for i in range(len(predictions)):\n",
    "        #if total_odds == 0:\n",
    "            #print(total_odds)\n",
    "        predictions[i] = predictions[i]/total_odds\n",
    "        implied_odds = 1/odds_arr[i]\n",
    "        #print(predictions)\n",
    "        if predictions[i] > implied_odds * 1.1: # need 10% adv to bet?\n",
    "            predicted_win += 1\n",
    "            if winners[i] == 1:\n",
    "                bankroll_ridge_byr += odds_arr[i]\n",
    "                correct_p_win += 1\n",
    "            else:\n",
    "                bankroll_ridge_byr -= 1\n",
    "                incorrect_p_win += 1\n",
    "        else:\n",
    "            predicted_loss += 1\n",
    "        #print(\"Implied Odds\", round(implied_odds, 3), \"\\tpredicted proba\", round(predictions[i], 3), \"\\tBankroll $\", bankroll_ridge_byr)\n",
    "        \n",
    "        \n",
    "##its working\n",
    "#print(run['horse_age'])\n",
    "#df.columns\n",
    "#only_odds_byr.head()"
   ]
  },
  {
   "cell_type": "code",
   "execution_count": null,
   "metadata": {},
   "outputs": [],
   "source": [
    "print(\"$\",bankroll_ridge_byr)\n",
    "print(\"Correct Wins\", correct_p_win, \"Incorrect Wins\", incorrect_p_win)"
   ]
  },
  {
   "cell_type": "code",
   "execution_count": null,
   "metadata": {},
   "outputs": [],
   "source": [
    "print(\"Accuracy:\")\n",
    "print(\"- KNN:\", metrics.accuracy_score(y_test, y_pred_knn))\n",
    "print(\"- ID3:\", metrics.accuracy_score(y_test, y_pred_id3))\n",
    "print(\"- ID3 (overfitting):\", metrics.accuracy_score(y_test, y_pred_id3_of))\n",
    "print(\"- CART:\", metrics.accuracy_score(y_test, y_pred_cart))\n",
    "print(\"- Naive Bayes:\", metrics.accuracy_score(y_test, y_pred_bayes))\n",
    "print(\"- RBF Kernel SVC:\", metrics.accuracy_score(y_test, y_pred_rbf))\n",
    "print(\"- Random Forest:\", metrics.accuracy_score(y_test, y_pred_forest))\n",
    "print(\"- AdaBoost:\", metrics.accuracy_score(y_test, y_pred_boost))\n",
    "print(\"- MLP:\", metrics.accuracy_score(y_test, y_pred_mlp))\n",
    "print(\"- Ridge:\", metrics.accuracy_score(y_test, y_pred_ridge))"
   ]
  },
  {
   "cell_type": "code",
   "execution_count": null,
   "metadata": {},
   "outputs": [],
   "source": [
    "## More Metrics!\n",
    "print(\"- KNN:\\n\", metrics.classification_report(y_test, y_pred_knn))\n",
    "print(\"- ID3:\\n\", metrics.classification_report(y_test, y_pred_id3))\n",
    "print(\"\")\n",
    "print(\"- ID3 (overfitting):\\n\", metrics.classification_report(y_test, y_pred_id3_of))\n",
    "print(\"\")\n",
    "print(\"- CART:\\n\", metrics.classification_report(y_test, y_pred_cart))\n",
    "print(\"\")\n",
    "print(\"- Naive Bayes:\\n\", metrics.classification_report(y_test, y_pred_bayes))\n",
    "print(\"\")\n",
    "print(\"- RBF Kernel SVC:\\n\", metrics.classification_report(y_test, y_pred_rbf))\n",
    "print(\"\")\n",
    "print(\"- Random Forest:\\n\", metrics.classification_report(y_test, y_pred_forest, zero_division=0))\n",
    "print(\"\")\n",
    "print(\"- AdaBoost:\\n\", metrics.classification_report(y_test, y_pred_boost))\n",
    "print(\"\")\n",
    "print(\"- MLP:\\n\", metrics.classification_report(y_test, y_pred_mlp))\n",
    "print(\"\")"
   ]
  },
  {
   "cell_type": "code",
   "execution_count": null,
   "metadata": {},
   "outputs": [],
   "source": [
    "## Maybe we should do regression on 'won' feature so we can get a probability value instead of binary value\n",
    "## Idk, this is just a start"
   ]
  },
  {
   "cell_type": "code",
   "execution_count": null,
   "metadata": {},
   "outputs": [],
   "source": [
    "#for i in range(len(only_odds)):\n",
    "    #print(only_odds[i])"
   ]
  },
  {
   "cell_type": "markdown",
   "metadata": {},
   "source": [
    "### Betting \\$1 on Every Predicted Winner"
   ]
  },
  {
   "cell_type": "code",
   "execution_count": null,
   "metadata": {},
   "outputs": [],
   "source": [
    "## loop through every run in the test data\n",
    "## predict whether its a winner or not, and then use the odds of the run to add/subtract profit\n",
    "bankroll_knn = 0\n",
    "bankroll_id3 = 0\n",
    "bankroll_id3_of = 0\n",
    "bankroll_cart = 0\n",
    "bankroll_bayes = 0\n",
    "bankroll_rbf = 0\n",
    "bankroll_forest = 0\n",
    "bankroll_boost = 0\n",
    "bankroll_mlp = 0\n",
    "\n",
    "#print(y_test.shape)\n",
    "#print(only_odds.shape)\n",
    "#print(y_test[61253])\n",
    "i = 0\n",
    "\n",
    "for index, run in X_test.iterrows():\n",
    "    #print(index)\n",
    "    #bet a dollar to place (need to change this to win...)\n",
    "    prediction_knn = clf_knn.predict([run])\n",
    "    prediction_id3 = clf_id3.predict([run])\n",
    "    prediction_id3_of = clf_id3_overfit.predict([run])\n",
    "    prediction_cart = clf_cart.predict([run])\n",
    "    prediction_bayes = clf_bayes.predict([run])\n",
    "    prediction_rbf = clf_rbf.predict([run])\n",
    "    prediction_forest = clf_forest.predict([run])\n",
    "    prediction_boost = clf_boost.predict([run])\n",
    "    prediction_mlp = clf_mlp.predict([run])\n",
    "    \n",
    "    #print(y_test[i])\n",
    "    \n",
    "    #print(prediction)\n",
    "    odds = only_odds[1 +i*4]\n",
    "    #print(odds)\n",
    "    if prediction_knn:\n",
    "        if (y_test[i] == 1):\n",
    "            bankroll_knn += odds\n",
    "        else:\n",
    "            bankroll_knn -= 1\n",
    "            \n",
    "    if prediction_id3:\n",
    "        if (y_test[i] == 1):\n",
    "            bankroll_id3 += odds\n",
    "        else:\n",
    "            bankroll_id3 -= 1\n",
    "    \n",
    "    if prediction_id3_of:\n",
    "        if (y_test[i] == 1):\n",
    "            bankroll_id3_of += odds\n",
    "        else:\n",
    "            bankroll_id3_of -= 1\n",
    "    \n",
    "    if prediction_cart:\n",
    "        if (y_test[i] == 1):\n",
    "            bankroll_cart += odds\n",
    "        else:\n",
    "            bankroll_cart -= 1\n",
    "    \n",
    "    if prediction_bayes:\n",
    "        if (y_test[i] == 1):\n",
    "            bankroll_bayes += odds\n",
    "        else:\n",
    "            bankroll_bayes -= 1\n",
    "            \n",
    "    if prediction_rbf:\n",
    "        if (y_test[i] == 1):\n",
    "            bankroll_rbf += odds\n",
    "        else:\n",
    "            bankroll_rbf -= 1\n",
    "            \n",
    "    if prediction_forest:\n",
    "        if (y_test[i] == 1):\n",
    "            bankroll_forest += odds\n",
    "        else:\n",
    "            bankroll_forest -= 1\n",
    "            \n",
    "    if prediction_boost:\n",
    "        if (y_test[i] == 1):\n",
    "            bankroll_boost += odds\n",
    "        else:\n",
    "            bankroll_boost -= 1\n",
    "    \n",
    "    if prediction_mlp:\n",
    "        if (y_test[i] == 1):\n",
    "            bankroll_mlp += odds\n",
    "        else:\n",
    "            bankroll_mlp -= 1\n",
    "\n",
    "    i += 1\n",
    "    \n",
    "\n",
    "        "
   ]
  },
  {
   "cell_type": "code",
   "execution_count": null,
   "metadata": {},
   "outputs": [],
   "source": [
    "print(\"-----Betting 1 on Every Predicted Winner-----\")\n",
    "print(\"Bankroll KNN: $\", round(bankroll_knn,2))\n",
    "print(\"Bankroll ID3: $\", round(bankroll_id3,2))\n",
    "print(\"Bankroll ID3_OF: $\", round(bankroll_id3_of,2))\n",
    "print(\"Bankroll CART: $\", round(bankroll_cart,2))\n",
    "print(\"Bankroll Bayes: $\", round(bankroll_bayes,2))\n",
    "print(\"Bankroll rbf: $\", round(bankroll_rbf,2))\n",
    "print(\"Bankroll Forest: $\", round(bankroll_forest,2))\n",
    "print(\"Bankroll boost: $\", round(bankroll_boost,2))\n",
    "print(\"Bankroll mlp: $\", round(bankroll_mlp,2))"
   ]
  },
  {
   "cell_type": "markdown",
   "metadata": {},
   "source": [
    "## Betting $1 on Every Horse whose \"True Odds\" are better than Odds Given"
   ]
  },
  {
   "cell_type": "code",
   "execution_count": null,
   "metadata": {},
   "outputs": [],
   "source": [
    "## loop through every run in the test data\n",
    "## predict whether its a winner or not, and then use the odds of the run to add/subtract profit\n",
    "\n",
    "# I only really care about TP and FP cause we only bet on a predicted positive\n",
    "bankroll_knn = 0\n",
    "knn_TP, knn_FP = 0, 0\n",
    "\n",
    "bankroll_id3 = 0\n",
    "id3_TP, id3_FP = 0, 0\n",
    "\n",
    "bankroll_id3_of = 0\n",
    "id3_of_TP, id3_of_FP = 0, 0\n",
    "\n",
    "bankroll_cart = 0\n",
    "cart_TP, cart_FP = 0, 0\n",
    "\n",
    "bankroll_bayes = 0\n",
    "bayes_TP, bayes_FP = 0, 0\n",
    "\n",
    "bankroll_rbf = 0\n",
    "rbf_TP, rbf_FP = 0, 0\n",
    "\n",
    "bankroll_forest = 0\n",
    "forest_TP, forest_FP = 0, 0\n",
    "\n",
    "bankroll_boost = 0\n",
    "boost_TP, boost_FP = 0, 0\n",
    "\n",
    "bankroll_mlp = 0\n",
    "mlp_TP, mlp_FP = 0, 0\n",
    "\n",
    "#print(y_test.shape)\n",
    "#print(only_odds.shape)\n",
    "#print(y_test[61253])\n",
    "i = 0\n",
    "\n",
    "print(only_odds[0])\n",
    "\n",
    "#Probably a better way to do this\n",
    "for index, run in X_test.iterrows():\n",
    "    #print(index)\n",
    "    #bet a dollar to place (need to change this to win...)\n",
    "    prediction_knn = clf_knn.predict_proba([run])\n",
    "    prediction_id3 = clf_id3.predict_proba([run])\n",
    "    prediction_id3_of = clf_id3_overfit.predict_proba([run])\n",
    "    prediction_cart = clf_cart.predict_proba([run])\n",
    "    prediction_bayes = clf_bayes.predict_proba([run])\n",
    "    prediction_rbf = clf_rbf.predict_proba([run])\n",
    "    prediction_forest = clf_forest.predict_proba([run])\n",
    "    prediction_boost = clf_boost.predict_proba([run])\n",
    "    prediction_mlp = clf_mlp.predict_proba([run])\n",
    "    \n",
    "    #print(prediction)\n",
    "    \n",
    "    ## Decimal odds -> implied odds = 1/(decimal odds)\n",
    "    implied_odds = 1.0/only_odds[1 +i*4]\n",
    "    odds = only_odds[1 +i*4]\n",
    "    \n",
    "    \n",
    "    if prediction_knn[0][1] > implied_odds:\n",
    "        if (y_test[i] == 1):\n",
    "            bankroll_knn += odds\n",
    "            knn_TP += 1\n",
    "        else:\n",
    "            bankroll_knn -= 1\n",
    "            knn_FP += 1\n",
    "            \n",
    "    if prediction_id3[0][1] > implied_odds:\n",
    "        if (y_test[i] == 1):\n",
    "            bankroll_id3 += odds\n",
    "            id3_TP += 1\n",
    "        else:\n",
    "            bankroll_id3 -= 1\n",
    "            id3_FP += 1\n",
    "    \n",
    "    if prediction_id3_of[0][1] > implied_odds:\n",
    "        if (y_test[i] == 1):\n",
    "            bankroll_id3_of += odds\n",
    "            id3_of_TP += 1\n",
    "        else:\n",
    "            bankroll_id3_of -= 1\n",
    "            id3_of_FP += 1\n",
    "    \n",
    "    if prediction_cart[0][1] > implied_odds:\n",
    "        if (y_test[i] == 1):\n",
    "            bankroll_cart += odds\n",
    "            cart_TP += 1\n",
    "        else:\n",
    "            bankroll_cart -= 1\n",
    "            cart_FP += 1\n",
    "    \n",
    "    if prediction_bayes[0][1] > implied_odds:\n",
    "        if (y_test[i] == 1):\n",
    "            bankroll_bayes += odds\n",
    "            bayes_TP += 1\n",
    "        else:\n",
    "            bankroll_bayes -= 1\n",
    "            bayes_FP += 1\n",
    "            \n",
    "    if prediction_rbf[0][1] > implied_odds:\n",
    "        if (y_test[i] == 1):\n",
    "            bankroll_rbf += odds\n",
    "            rbf_TP += 1\n",
    "        else:\n",
    "            bankroll_rbf -= 1\n",
    "            rbf_FP += 1\n",
    "            \n",
    "    if prediction_forest[0][1] > implied_odds:\n",
    "        if (y_test[i] == 1):\n",
    "            bankroll_forest += odds\n",
    "            forest_TP += 1\n",
    "        else:\n",
    "            bankroll_forest -= 1\n",
    "            forest_FP += 1\n",
    "            \n",
    "    if prediction_boost[0][1] > implied_odds:\n",
    "        if (y_test[i] == 1):\n",
    "            bankroll_boost += odds\n",
    "            boost_TP += 1\n",
    "        else:\n",
    "            bankroll_boost -= 1\n",
    "            boost_FP += 1\n",
    "    \n",
    "    if prediction_mlp[0][1] > implied_odds:\n",
    "        if (y_test[i] == 1):\n",
    "            bankroll_mlp += odds\n",
    "            mlp_TP += 1\n",
    "        else:\n",
    "            bankroll_mlp -= 1\n",
    "            mlp_FP += 1\n",
    "\n",
    "    i += 1\n",
    "    \n"
   ]
  },
  {
   "cell_type": "code",
   "execution_count": null,
   "metadata": {},
   "outputs": [],
   "source": [
    "print(\"-----Betting 1 on Every Predicted Winner-----\")\n",
    "print(\"Bankroll KNN: $\", round(bankroll_knn,2))\n",
    "print(\"Bankroll ID3: $\", round(bankroll_id3,2))\n",
    "print(\"Bankroll ID3_OF: $\", round(bankroll_id3_of,2))\n",
    "print(\"Bankroll CART: $\", round(bankroll_cart,2))\n",
    "print(\"Bankroll Bayes: $\", round(bankroll_bayes,2))\n",
    "print(\"Bankroll rbf: $\", round(bankroll_rbf,2))\n",
    "print(\"Bankroll Forest: $\", round(bankroll_forest,2))\n",
    "print(\"Bankroll boost: $\", round(bankroll_boost,2))\n",
    "print(\"Bankroll mlp: $\", round(bankroll_mlp,2),\"\\n\")\n",
    "\n",
    "print(\"KNN TP: \", knn_TP, \"KNN FP: \", knn_FP)\n",
    "print(\"ID3 TP: \", id3_TP, \"ID3 FP: \", id3_FP)\n",
    "print(\"ID3_OF TP: \", id3_of_TP, \"ID3_OF FP: \", id3_of_FP)\n",
    "print(\"CART TP: \", cart_TP, \"CART FP: \", cart_FP)\n",
    "print(\"BAYES TP: \", bayes_TP, \"BAYES FP: \", bayes_FP)\n",
    "print(\"rbf TP: \", rbf_TP, \"rbf FP: \", rbf_FP)\n",
    "print(\"forest TP: \", forest_TP, \"forest FP: \", forest_FP)\n",
    "print(\"boost TP: \", boost_TP, \"boost FP: \", boost_FP)\n",
    "print(\"mlp TP: \", mlp_TP, \"mlp FP: \", mlp_FP)"
   ]
  },
  {
   "cell_type": "code",
   "execution_count": null,
   "metadata": {},
   "outputs": [],
   "source": [
    "# so that didn't work ^\n",
    "# We can try using a betting Criterion (Kelly Criterion) which changes amount bet based on perceived advantage.\n",
    "#\n",
    "# we could also try regression on time to complete the race, and compare the predicted time for each horse in a race\n",
    "#\n",
    "# we should also optimize the models, experiment with more / different features (avg speed of last N races for example)\n",
    "#\n",
    "# Features used in Bolton and Chapman:\n",
    "# Lifetime Win %, Average Speed Rating, Winnings/Race past year, Weight, Post Position, New Distance?, Last Speed Rating, Jockey Win Percent, Jockey Win #\n",
    "# I think most of these can be calculated form our data. \n",
    "\n",
    "#this is just a start"
   ]
  },
  {
   "cell_type": "code",
   "execution_count": null,
   "metadata": {},
   "outputs": [],
   "source": [
    "##linear regression time\n",
    "#simple betting strategy for ridge (linear regression)"
   ]
  },
  {
   "cell_type": "code",
   "execution_count": null,
   "metadata": {},
   "outputs": [],
   "source": [
    "bankroll_ridge = 0\n",
    "ridge_TP, ridge_FP = 0, 0\n",
    "\n",
    "#print(y_test.shape)\n",
    "#print(only_odds.shape)\n",
    "#print(y_test[61253])\n",
    "i = 0\n",
    "\n",
    "print(only_odds[0])\n",
    "\n",
    "#Probably a better way to do this\n",
    "for index, run in X_test.iterrows():\n",
    "    #print(index)\n",
    "    #bet a dollar to place (need to change this to win...)\n",
    "    d = clf_ridge.decision_function([run])\n",
    "    prediction_ridge = np.interp(d[0],[-1,1],[0,1])\n",
    "    \n",
    "    \n",
    "    #print(prediction)\n",
    "    \n",
    "    ## Decimal odds -> implied odds = 1/(decimal odds)\n",
    "    implied_odds = 1.0/only_odds[1 +i*4]\n",
    "    odds = only_odds[1 + i*4]\n",
    "    \n",
    "    \n",
    "    if prediction_ridge > implied_odds:\n",
    "        if (y_test[i] == 1):\n",
    "            bankroll_ridge += odds\n",
    "            ridge_TP += 1\n",
    "        else:\n",
    "            bankroll_ridge -= 1\n",
    "            ridge_FP += 1\n",
    "            \n",
    "            \n",
    "    \n",
    "\n",
    "    i += 1\n",
    "    "
   ]
  },
  {
   "cell_type": "code",
   "execution_count": null,
   "metadata": {},
   "outputs": [],
   "source": [
    "print(\"Ridge (linear regression)$\", bankroll_ridge)"
   ]
  },
  {
   "cell_type": "code",
   "execution_count": null,
   "metadata": {},
   "outputs": [],
   "source": [
    "print(\"Ridge TP:\", ridge_TP)\n",
    "print(\"Ridge FP:\", ridge_FP)"
   ]
  },
  {
   "cell_type": "code",
   "execution_count": null,
   "metadata": {},
   "outputs": [],
   "source": [
    "## I think ridge (simple linear regression) is still best, it gives us an actual probability.\n",
    "#  Our main focus should be finding a way to compare horses in the same race, as thats what we'd actually do at the track\n",
    "#  Once that's done, we can figure out betting strategies etc and evaluation metrics. Doesn't necessarily have to be profitable, \n",
    "#  we just have to be able to show that we put some work in on the project. \n",
    "#  \n",
    "#  If anyone wants to work on this, we need to reorganize the data in a way where we can organize by race_id. \n",
    "#  look into df.groupby, we can group by raceID and then loop through each race ID and predict for each horse\n",
    "#  We should also seperate train and test by race, because now the training and testing can both feature runs from the same race.\n",
    "#  We can also look into balancing the labels in training data, and sorting train/test chronologically, but not high priority I think.\n",
    "\n"
   ]
  },
  {
   "cell_type": "code",
   "execution_count": null,
   "metadata": {},
   "outputs": [],
   "source": []
  }
 ],
 "metadata": {
  "kernelspec": {
   "display_name": "Python 3",
   "language": "python",
   "name": "python3"
  },
  "language_info": {
   "codemirror_mode": {
    "name": "ipython",
    "version": 3
   },
   "file_extension": ".py",
   "mimetype": "text/x-python",
   "name": "python",
   "nbconvert_exporter": "python",
   "pygments_lexer": "ipython3",
   "version": "3.8.3"
  }
 },
 "nbformat": 4,
 "nbformat_minor": 4
}
